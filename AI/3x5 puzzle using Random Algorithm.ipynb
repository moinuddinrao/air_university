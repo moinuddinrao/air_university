{
  "cells": [
    {
      "cell_type": "code",
      "execution_count": 32,
      "id": "4d056b18",
      "metadata": {
        "id": "4d056b18"
      },
      "outputs": [],
      "source": [
        "\n",
        "class Puzzle:\n",
        "    goal_state = [1,2,3,4,5,\n",
        "                  0,6,7,8,9,\n",
        "                  10,11,12,13,14]\n",
        "    heuristic=None\n",
        "    evaluation_function=None\n",
        "    needs_hueristic=True\n",
        "    num_of_instances=0\n",
        "    def __init__(self,state,parent,action,path_cost,needs_hueristic=True):\n",
        "        self.parent=parent\n",
        "        self.state=state\n",
        "        self.action=action\n",
        "\n",
        "        if needs_hueristic == True:\n",
        "          self.MisplacedTiles()\n",
        "       \n",
        "        Puzzle.num_of_instances+=1\n",
        "\n",
        "    def __str__(self):\n",
        "        return str(self.state[0:5])+'\\n'+str(self.state[5:10])+'\\n'+str(self.state[10:15])\n",
        "\n",
        "    def MisplacedTiles(self):\n",
        "      self.heuristic = 0\n",
        "      for i in range(len(self.goal_state)):\n",
        "        if self.goal_state[i] != self.state[i]:\n",
        "          self.heuristic = self.heuristic + 1\n",
        "\n",
        "\n",
        "    def goal_test(self):\n",
        "        if self.state == self.goal_state:\n",
        "            return True\n",
        "        return False\n",
        "\n",
        "    @staticmethod\n",
        "    def find_legal_actions(i,j):\n",
        "        legal_action = ['U', 'D', 'L', 'R']\n",
        "        if i == 0:  # up is disable\n",
        "            legal_action.remove('U')\n",
        "        elif i == 2:  # down is disable\n",
        "            legal_action.remove('D')\n",
        "        if j == 0:\n",
        "            legal_action.remove('L')\n",
        "        elif j == 4:\n",
        "            legal_action.remove('R')\n",
        "        return legal_action\n",
        "\n",
        "    def generate_child(self):\n",
        "        children=[]\n",
        "        x = self.state.index(0)\n",
        "        i = int(x / 5)\n",
        "        j = int(x % 5)\n",
        "        legal_actions=self.find_legal_actions(i,j)\n",
        "\n",
        "        for action in legal_actions:\n",
        "            new_state = self.state.copy()\n",
        "            if action is 'U':\n",
        "                new_state[x], new_state[x-5] = new_state[x-5], new_state[x]\n",
        "            elif action is 'D':\n",
        "                new_state[x], new_state[x+5] = new_state[x+5], new_state[x]\n",
        "            elif action is 'L':\n",
        "                new_state[x], new_state[x-1] = new_state[x-1], new_state[x]\n",
        "            elif action is 'R':\n",
        "                new_state[x], new_state[x+1] = new_state[x+1], new_state[x]            \n",
        "            children.append(Puzzle(new_state,self,action,1,self.needs_hueristic))\n",
        "        return children\n",
        "\n",
        "    def find_solution(self):\n",
        "        solution = []\n",
        "        solution.append(self.action)\n",
        "        path = self\n",
        "        while path.parent != None:\n",
        "            path = path.parent\n",
        "            solution.append(path.action)\n",
        "        solution = solution[:-1]\n",
        "        solution.reverse()\n",
        "        return solution"
      ]
    },
    {
      "cell_type": "code",
      "execution_count": 33,
      "id": "eca3e919",
      "metadata": {
        "id": "eca3e919"
      },
      "outputs": [],
      "source": [
        "from queue import Queue\n",
        "from random import Random, random\n",
        "\n",
        "\n",
        "def Random_search(initial_state):\n",
        "    start_node = Puzzle(initial_state, None, None, 0)\n",
        "    if start_node.goal_test():\n",
        "        return start_node.find_solution()\n",
        "    q = Queue()\n",
        "    q.put(start_node)\n",
        "    explored=[]\n",
        "    while not(q.empty()):\n",
        "        node=q.get()\n",
        "        explored.append(node.state)\n",
        "        children=node.generate_child()\n",
        "\n",
        "        #Randomly select 2 children\n",
        "        r = Random()\n",
        "        selectedChildren = r.sample(children, 2)\n",
        "        \n",
        "        for child in selectedChildren:\n",
        "            if child.state not in explored:\n",
        "                if child.goal_test():\n",
        "                    return child.find_solution()\n",
        "                q.put(child)\n",
        "    return"
      ]
    },
    {
      "cell_type": "code",
      "execution_count": 34,
      "id": "58a034f7",
      "metadata": {
        "id": "58a034f7",
        "outputId": "40cfe865-1594-4505-8cd0-29298ed6e861",
        "colab": {
          "base_uri": "https://localhost:8080/"
        }
      },
      "outputs": [
        {
          "output_type": "stream",
          "name": "stdout",
          "text": [
            "BFS: ['L']\n",
            "costs: ['L']\n",
            "space: 5\n",
            "time: 0.0002841949462890625\n"
          ]
        }
      ],
      "source": [
        "from time import time\n",
        "\n",
        "state=[[1,2,3,4,5,\n",
        "        6,0,7,8,9,\n",
        "        10,11,12,13,14]\n",
        "      ]\n",
        "\n",
        "for i in range(0,1):\n",
        "    Puzzle.num_of_instances=0\n",
        "    t0=time()\n",
        "    Rs=Random_search(state[i])\n",
        "    t1=time()-t0\n",
        "    print('BFS:', Rs)\n",
        "    print('costs:', (Rs))\n",
        "    print('space:',Puzzle.num_of_instances)\n",
        "    print('time:',t1)"
      ]
    }
  ],
  "metadata": {
    "kernelspec": {
      "display_name": "Python 3",
      "language": "python",
      "name": "python3"
    },
    "language_info": {
      "codemirror_mode": {
        "name": "ipython",
        "version": 3
      },
      "file_extension": ".py",
      "mimetype": "text/x-python",
      "name": "python",
      "nbconvert_exporter": "python",
      "pygments_lexer": "ipython3",
      "version": "3.7.6"
    },
    "colab": {
      "name": "191118 Question#1.ipynb",
      "provenance": [],
      "collapsed_sections": []
    }
  },
  "nbformat": 4,
  "nbformat_minor": 5
}