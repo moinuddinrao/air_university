{
  "cells": [
    {
      "cell_type": "markdown",
      "metadata": {
        "id": "l4oNwGkVaThh"
      },
      "source": [
        "# A.I. Lab - 3"
      ]
    },
    {
      "cell_type": "markdown",
      "metadata": {
        "id": "8lwZB_kSaThl"
      },
      "source": [
        "## Lab Agenda:"
      ]
    },
    {
      "cell_type": "markdown",
      "metadata": {
        "id": "2LH6UudFaThm"
      },
      "source": [
        "0. Anaconda Installation and Getting Started with Jupyter Notebook\n",
        "1. Basic Python Code Understanding\n",
        "2. Problem Formulation for 8-Puzzle Problem\n",
        "3. Heuristic Function (Number of misplaced Tiles)\n",
        "4. Find Legitimate Moves\n",
        "5. Make a Move"
      ]
    },
    {
      "cell_type": "markdown",
      "metadata": {
        "id": "7OP9OKq6aThn"
      },
      "source": [
        "### 0. Anaconda Installation and Getting Started with Jupyter Notebook"
      ]
    },
    {
      "cell_type": "markdown",
      "metadata": {
        "id": "JeHnQV8uaThn"
      },
      "source": [
        "Reference to this video to understand and proceed with anaconda installation\n",
        "\n",
        "https://www.youtube.com/watch?v=5mDYijMfSzs&t=508s"
      ]
    },
    {
      "cell_type": "markdown",
      "metadata": {
        "id": "rCygkLhpaTho"
      },
      "source": [
        "### Basic Python Coding"
      ]
    },
    {
      "cell_type": "markdown",
      "metadata": {
        "id": "2jNHZtxPaTho"
      },
      "source": [
        "##### Making Neccessary Imports"
      ]
    },
    {
      "cell_type": "code",
      "execution_count": null,
      "metadata": {
        "id": "Z6mLODBRaThp"
      },
      "outputs": [],
      "source": [
        "import numpy as np\n",
        "import pandas as pd\n",
        "from time import time\n",
        "import matplotlib.pyplot as plt"
      ]
    },
    {
      "cell_type": "markdown",
      "metadata": {
        "id": "2ovrszdnaThr"
      },
      "source": [
        "##### Declaring Variables"
      ]
    },
    {
      "cell_type": "code",
      "execution_count": null,
      "metadata": {
        "id": "pej8OEDGaThs",
        "outputId": "a6755283-ab3e-46ed-a3a7-b1d33f854767"
      },
      "outputs": [
        {
          "data": {
            "text/plain": [
              "'Hello World'"
            ]
          },
          "execution_count": 2,
          "metadata": {},
          "output_type": "execute_result"
        }
      ],
      "source": [
        "str1 = \"Hello World\"\n",
        "str1"
      ]
    },
    {
      "cell_type": "code",
      "execution_count": null,
      "metadata": {
        "id": "uHqOsqFXaTht",
        "outputId": "0a92d536-6c3e-4dfa-8464-c69dd7e56361"
      },
      "outputs": [
        {
          "data": {
            "text/plain": [
              "str"
            ]
          },
          "execution_count": 3,
          "metadata": {},
          "output_type": "execute_result"
        }
      ],
      "source": [
        "type(str1)"
      ]
    },
    {
      "cell_type": "code",
      "execution_count": null,
      "metadata": {
        "id": "tlrbunEmaTht",
        "outputId": "e1b95110-dde1-44c2-85e5-f2e8d5a3ec5b"
      },
      "outputs": [
        {
          "data": {
            "text/plain": [
              "11"
            ]
          },
          "execution_count": 4,
          "metadata": {},
          "output_type": "execute_result"
        }
      ],
      "source": [
        "len(str1)"
      ]
    },
    {
      "cell_type": "code",
      "execution_count": null,
      "metadata": {
        "id": "BwD1ONLoaThu",
        "outputId": "8b58e093-00f0-4912-f653-bf4e17aaa03f"
      },
      "outputs": [
        {
          "data": {
            "text/plain": [
              "''"
            ]
          },
          "execution_count": 5,
          "metadata": {},
          "output_type": "execute_result"
        }
      ],
      "source": [
        "blank_str = \"\"\n",
        "blank_str"
      ]
    },
    {
      "cell_type": "code",
      "execution_count": null,
      "metadata": {
        "id": "cXY-Onn5aThu",
        "outputId": "3cd6ec16-503d-4fcd-e2ee-f0f8f692c1b3"
      },
      "outputs": [
        {
          "data": {
            "text/plain": [
              "0"
            ]
          },
          "execution_count": 6,
          "metadata": {},
          "output_type": "execute_result"
        }
      ],
      "source": [
        "len(blank_str)"
      ]
    },
    {
      "cell_type": "code",
      "execution_count": null,
      "metadata": {
        "id": "O6tP0qxfaThv",
        "outputId": "a2fd65f6-4500-4ce0-dcf6-18695d798db5"
      },
      "outputs": [
        {
          "data": {
            "text/plain": [
              "100000101001001"
            ]
          },
          "execution_count": 7,
          "metadata": {},
          "output_type": "execute_result"
        }
      ],
      "source": [
        "var = 100000101001001 \n",
        "var"
      ]
    },
    {
      "cell_type": "code",
      "execution_count": null,
      "metadata": {
        "id": "7xigDQcEaThv",
        "outputId": "0f5ebd94-4ac9-460b-8903-ab29a6229440"
      },
      "outputs": [
        {
          "data": {
            "text/plain": [
              "int"
            ]
          },
          "execution_count": 8,
          "metadata": {},
          "output_type": "execute_result"
        }
      ],
      "source": [
        "type(var)"
      ]
    },
    {
      "cell_type": "code",
      "execution_count": null,
      "metadata": {
        "id": "SLZPfMY2aThw",
        "outputId": "0becab87-8c4f-4997-b347-04609cc8429f"
      },
      "outputs": [
        {
          "data": {
            "text/plain": [
              "'100000101001001'"
            ]
          },
          "execution_count": 9,
          "metadata": {},
          "output_type": "execute_result"
        }
      ],
      "source": [
        "str(var)"
      ]
    },
    {
      "cell_type": "code",
      "execution_count": null,
      "metadata": {
        "id": "MYa2-awOaThw",
        "outputId": "f38f496d-1fda-4038-d7e3-62e3f25c4fbe"
      },
      "outputs": [
        {
          "data": {
            "text/plain": [
              "15"
            ]
          },
          "execution_count": 10,
          "metadata": {},
          "output_type": "execute_result"
        }
      ],
      "source": [
        "len(str(var))"
      ]
    },
    {
      "cell_type": "markdown",
      "metadata": {
        "id": "r_OBjBfmaThw"
      },
      "source": [
        "##### Lists"
      ]
    },
    {
      "cell_type": "code",
      "execution_count": null,
      "metadata": {
        "id": "hPv7THH1aThx",
        "outputId": "41f73d7e-626c-4958-8a91-7d714fcb285f"
      },
      "outputs": [
        {
          "data": {
            "text/plain": [
              "[0, 1, 2]"
            ]
          },
          "execution_count": 11,
          "metadata": {},
          "output_type": "execute_result"
        }
      ],
      "source": [
        "list1 = [0,1,2]\n",
        "list1"
      ]
    },
    {
      "cell_type": "code",
      "execution_count": null,
      "metadata": {
        "id": "syDqDw2SaThx",
        "outputId": "d4f254cb-df37-44c0-8476-cec2a5efed1e"
      },
      "outputs": [
        {
          "data": {
            "text/plain": [
              "list"
            ]
          },
          "execution_count": 12,
          "metadata": {},
          "output_type": "execute_result"
        }
      ],
      "source": [
        "type(list1)"
      ]
    },
    {
      "cell_type": "code",
      "execution_count": null,
      "metadata": {
        "id": "sVQ2LKhnaThy",
        "outputId": "e0969343-6ba7-4f7c-eb1f-0c5e2d895106"
      },
      "outputs": [
        {
          "data": {
            "text/plain": [
              "3"
            ]
          },
          "execution_count": 13,
          "metadata": {},
          "output_type": "execute_result"
        }
      ],
      "source": [
        "len(list1)"
      ]
    },
    {
      "cell_type": "code",
      "execution_count": null,
      "metadata": {
        "id": "bMUDAazwaThy"
      },
      "outputs": [],
      "source": [
        "list1.reverse()"
      ]
    },
    {
      "cell_type": "markdown",
      "metadata": {
        "id": "dHIYBzDFaThy"
      },
      "source": [
        "##### Functions"
      ]
    },
    {
      "cell_type": "code",
      "execution_count": null,
      "metadata": {
        "id": "2Ar7arB8aThz"
      },
      "outputs": [],
      "source": [
        "def sum(var1, var2):\n",
        "    return var1+var2"
      ]
    },
    {
      "cell_type": "code",
      "execution_count": null,
      "metadata": {
        "id": "1aaP5baKaThz",
        "outputId": "20d47802-c374-4be8-d79d-4f276cd453b4"
      },
      "outputs": [
        {
          "data": {
            "text/plain": [
              "5"
            ]
          },
          "execution_count": 16,
          "metadata": {},
          "output_type": "execute_result"
        }
      ],
      "source": [
        "sum(2,3)"
      ]
    },
    {
      "cell_type": "markdown",
      "metadata": {
        "id": "gIInOcFgaThz"
      },
      "source": [
        "### 8-Puzzle Problem Formulation"
      ]
    },
    {
      "cell_type": "code",
      "execution_count": null,
      "metadata": {
        "colab": {
          "base_uri": "https://localhost:8080/"
        },
        "id": "dZjbuIziaThz",
        "outputId": "415d81e5-e5b6-4293-d57f-db75033e1081"
      },
      "outputs": [
        {
          "output_type": "execute_result",
          "data": {
            "text/plain": [
              "[[1, 2, 3], [4, 5, 6], [7, 8, 0]]"
            ]
          },
          "metadata": {},
          "execution_count": 1
        }
      ],
      "source": [
        "initial_state = [\n",
        "            [1,2,3],\n",
        "            [4,5,6],\n",
        "            [7,8,0]\n",
        "]\n",
        "initial_state"
      ]
    },
    {
      "cell_type": "code",
      "source": [
        "import numpy as np\n",
        "\n",
        "initial_state = np.array(initial_state)\n",
        "print (initial_state.reshape(initial_state.shape[0]*initial_state.shape[1]))"
      ],
      "metadata": {
        "colab": {
          "base_uri": "https://localhost:8080/"
        },
        "id": "2oBDNQH5cZEq",
        "outputId": "79e33ac2-4049-4c59-8b3b-522b91812472"
      },
      "execution_count": null,
      "outputs": [
        {
          "output_type": "stream",
          "name": "stdout",
          "text": [
            "[1 2 3 4 5 6 7 8 0]\n"
          ]
        }
      ]
    },
    {
      "cell_type": "code",
      "source": [
        "initial_state.shape"
      ],
      "metadata": {
        "colab": {
          "base_uri": "https://localhost:8080/"
        },
        "id": "NaQs9UyOdapv",
        "outputId": "0c0b8fef-c022-4b11-b1e1-c5e42b4a06bf"
      },
      "execution_count": null,
      "outputs": [
        {
          "output_type": "execute_result",
          "data": {
            "text/plain": [
              "(3, 3)"
            ]
          },
          "metadata": {},
          "execution_count": 6
        }
      ]
    },
    {
      "cell_type": "code",
      "execution_count": null,
      "metadata": {
        "id": "4wU7ugrRaTh0",
        "outputId": "5340f927-5565-4d39-9af8-cf28cf7c10d6"
      },
      "outputs": [
        {
          "data": {
            "text/plain": [
              "[[1, 8, 3], [4, 0, 5], [7, 2, 6]]"
            ]
          },
          "execution_count": 18,
          "metadata": {},
          "output_type": "execute_result"
        }
      ],
      "source": [
        "goal= [\n",
        "            [1,8,3],\n",
        "            [4,0,5],\n",
        "            [7,2,6]\n",
        "]\n",
        "goal"
      ]
    },
    {
      "cell_type": "code",
      "execution_count": null,
      "metadata": {
        "id": "7mkAGSH0aTh0"
      },
      "outputs": [],
      "source": [
        "initial_state = np.array([1,2,3,4,5,6,7,8,0])     \n",
        "goal = np.array([1,2,3,4,0,5,7,8,6])"
      ]
    },
    {
      "cell_type": "code",
      "execution_count": null,
      "metadata": {
        "colab": {
          "base_uri": "https://localhost:8080/"
        },
        "id": "wXAEuctkaTh0",
        "outputId": "8a7f5d9e-0921-4be3-9cee-98340dd4feeb"
      },
      "outputs": [
        {
          "output_type": "stream",
          "name": "stdout",
          "text": [
            "Goal Found\n"
          ]
        }
      ],
      "source": [
        "if (initial_state.all() == goal.all()):\n",
        "    print (\"Goal Found\")"
      ]
    },
    {
      "cell_type": "code",
      "execution_count": null,
      "metadata": {
        "id": "y7A9zfT3aTh0",
        "outputId": "020b8231-5fa7-43a4-a233-1c4a5163fcd1"
      },
      "outputs": [
        {
          "name": "stdout",
          "output_type": "stream",
          "text": [
            "\n"
          ]
        }
      ],
      "source": [
        "user_input = input()"
      ]
    },
    {
      "cell_type": "code",
      "execution_count": null,
      "metadata": {
        "id": "7fM2M8dNaTh1",
        "outputId": "59748d85-bb11-4a8d-f590-afa744c74099"
      },
      "outputs": [
        {
          "data": {
            "text/plain": [
              "''"
            ]
          },
          "execution_count": 22,
          "metadata": {},
          "output_type": "execute_result"
        }
      ],
      "source": [
        "\n",
        "user_input"
      ]
    },
    {
      "cell_type": "code",
      "execution_count": null,
      "metadata": {
        "id": "7mm7lCNFaTh1"
      },
      "outputs": [],
      "source": [
        "output = ['U','R','U','L','D','D','L','R','U']"
      ]
    },
    {
      "cell_type": "markdown",
      "metadata": {
        "id": "mQhiZzdGaTh1"
      },
      "source": [
        "### Heuristic Function"
      ]
    },
    {
      "cell_type": "markdown",
      "metadata": {
        "id": "Els0PsuDaTh1"
      },
      "source": [
        "cost_function = Manhattan Distance"
      ]
    },
    {
      "cell_type": "code",
      "execution_count": null,
      "metadata": {
        "id": "Bs7Wcbn7aTh1"
      },
      "outputs": [],
      "source": [
        "def generate_heuristic(self):\n",
        "        self.heuristic=0\n",
        "        for num in range(1,9):\n",
        "            distance=abs(self.state.index(num) - self.goal_state.index(num))\n",
        "            i=int(distance/3)\n",
        "            j=int(distance%3)\n",
        "            self.heuristic=self.heuristic+i+j"
      ]
    },
    {
      "cell_type": "markdown",
      "metadata": {
        "id": "okXGFu48aTh2"
      },
      "source": [
        "### Find Legal moves"
      ]
    },
    {
      "cell_type": "code",
      "execution_count": null,
      "metadata": {
        "id": "8mIk7d_xaTh2"
      },
      "outputs": [],
      "source": [
        "def find_legal_actions(i,j):\n",
        "        legal_action = ['U', 'D', 'L', 'R']\n",
        "        if i == 0:  # up is disable\n",
        "            legal_action.remove('U')\n",
        "        elif i == 2:  # down is disable\n",
        "            legal_action.remove('D')\n",
        "        if j == 0:\n",
        "            legal_action.remove('L')\n",
        "        elif j == 2:\n",
        "            legal_action.remove('R')\n",
        "        return legal_action"
      ]
    },
    {
      "cell_type": "markdown",
      "metadata": {
        "id": "mVI9RVY3aTh2"
      },
      "source": [
        "### Make Move"
      ]
    },
    {
      "cell_type": "code",
      "execution_count": null,
      "metadata": {
        "id": "A8QQ8g7naTh2"
      },
      "outputs": [],
      "source": [
        "def move(index, action):\n",
        "    if action == 'Right':\n",
        "        swap(i, i+1)\n",
        "    elif action == 'left':\n",
        "        swap(i, i-1)\n",
        "    elif (action == 'Up'):\n",
        "        swap(i, i-3)\n",
        "    elif (action == 'Down'):\n",
        "        swap(i, i+3)"
      ]
    },
    {
      "cell_type": "markdown",
      "metadata": {
        "id": "ZgfzlFFDaTh3"
      },
      "source": [
        "### Combining it all "
      ]
    },
    {
      "cell_type": "code",
      "execution_count": 1,
      "metadata": {
        "id": "OHqXe-ciaTh3"
      },
      "outputs": [],
      "source": [
        "\n",
        "class Puzzle:\n",
        "    goal_state = [1,2,3,\n",
        "                  8,0,4,\n",
        "                  7,6,5]\n",
        "    heuristic=None\n",
        "    evaluation_function=None\n",
        "    needs_hueristic=True\n",
        "    num_of_instances=0\n",
        "    def __init__(self,state,parent,action,path_cost,needs_hueristic=False):\n",
        "        self.parent=parent\n",
        "        self.state=state\n",
        "        self.action=action\n",
        "       \n",
        "        Puzzle.num_of_instances+=1\n",
        "\n",
        "    def __str__(self):\n",
        "        return str(self.state[0:3])+'\\n'+str(self.state[3:6])+'\\n'+str(self.state[6:9])\n",
        "\n",
        "    def generate_heuristic(self):\n",
        "        self.heuristic=0\n",
        "        for num in range(1,9):\n",
        "            distance=abs(self.state.index(num) - self.goal_state.index(num))\n",
        "            i=int(distance/3)\n",
        "            j=int(distance%3)\n",
        "            self.heuristic=self.heuristic+i+j\n",
        "\n",
        "    def goal_test(self):\n",
        "        if self.state == self.goal_state:\n",
        "            return True\n",
        "        return False\n",
        "\n",
        "    @staticmethod\n",
        "    def find_legal_actions(i,j):\n",
        "        legal_action = ['U', 'D', 'L', 'R']\n",
        "        if i == 0:  # up is disable\n",
        "            legal_action.remove('U')\n",
        "        elif i == 2:  # down is disable\n",
        "            legal_action.remove('D')\n",
        "        if j == 0:\n",
        "            legal_action.remove('L')\n",
        "        elif j == 2:\n",
        "            legal_action.remove('R')\n",
        "        return legal_action\n",
        "\n",
        "    def generate_child(self):\n",
        "        children=[]\n",
        "        x = self.state.index(0)\n",
        "        i = int(x / 3)\n",
        "        j = int(x % 3)\n",
        "        legal_actions=self.find_legal_actions(i,j)\n",
        "\n",
        "        for action in legal_actions:\n",
        "            new_state = self.state.copy()\n",
        "            if action is 'U':\n",
        "                new_state[x], new_state[x-3] = new_state[x-3], new_state[x]\n",
        "            elif action is 'D':\n",
        "                new_state[x], new_state[x+3] = new_state[x+3], new_state[x]\n",
        "            elif action is 'L':\n",
        "                new_state[x], new_state[x-1] = new_state[x-1], new_state[x]\n",
        "            elif action is 'R':\n",
        "                new_state[x], new_state[x+1] = new_state[x+1], new_state[x]            \n",
        "            children.append(Puzzle(new_state,self,action,1,self.needs_hueristic))\n",
        "        return children\n",
        "\n",
        "    def find_solution(self):\n",
        "        solution = []\n",
        "        solution.append(self.action)\n",
        "        path = self\n",
        "        while path.parent != None:\n",
        "            path = path.parent\n",
        "            solution.append(path.action)\n",
        "        solution = solution[:-1]\n",
        "        solution.reverse()\n",
        "        return solution"
      ]
    },
    {
      "cell_type": "markdown",
      "metadata": {
        "id": "2W5IRqapaTh4"
      },
      "source": [
        "### Using above Class in Breadth First Search"
      ]
    },
    {
      "cell_type": "code",
      "execution_count": 2,
      "metadata": {
        "id": "WEtkHs2zaTh4"
      },
      "outputs": [],
      "source": [
        "from queue import Queue\n",
        "\n",
        "\n",
        "def breadth_first_search(initial_state):\n",
        "    start_node = Puzzle(initial_state, None, None, 0)\n",
        "    if start_node.goal_test():\n",
        "        return start_node.find_solution()\n",
        "    q = Queue()\n",
        "    q.put(start_node)\n",
        "    explored=[]\n",
        "    while not(q.empty()):\n",
        "        node=q.get()\n",
        "        explored.append(node.state)\n",
        "        children=node.generate_child()\n",
        "        for child in children:\n",
        "            if child.state not in explored:\n",
        "                if child.goal_test():\n",
        "                    return child.find_solution()\n",
        "                q.put(child)\n",
        "    return"
      ]
    },
    {
      "cell_type": "markdown",
      "metadata": {
        "id": "aTjkQaHpaTh4"
      },
      "source": [
        "### Main Function"
      ]
    },
    {
      "cell_type": "code",
      "execution_count": 4,
      "metadata": {
        "id": "EFwQbEOBaTh5",
        "outputId": "08650357-4ff7-473c-8a43-a12e13214b75",
        "colab": {
          "base_uri": "https://localhost:8080/"
        }
      },
      "outputs": [
        {
          "output_type": "stream",
          "name": "stdout",
          "text": [
            "BFS: ['U', 'R', 'U', 'L', 'D']\n",
            "space: 66\n",
            "time: 0.0009009838104248047\n",
            "Total Cost:  12\n",
            "BFS: ['R', 'U', 'L', 'U', 'R', 'R', 'D', 'L', 'L', 'U', 'R', 'D']\n",
            "space: 2956\n",
            "time: 0.06642770767211914\n",
            "Total Cost:  31\n"
          ]
        }
      ],
      "source": [
        "from time import time\n",
        "\n",
        "state=[[1, 3, 4, \n",
        "        8, 6, 2, \n",
        "        7, 0, 5],\n",
        "\n",
        "       #[2, 8, 1,\n",
        "       # 0, 4, 3,\n",
        "       # 7, 6, 5],\n",
        "\n",
        "       [2, 8, 1,\n",
        "        4, 6, 3,\n",
        "        0, 7, 5]\n",
        "      ]\n",
        "\n",
        "for i in range(0,2):\n",
        "    Puzzle.num_of_instances=0\n",
        "    t0=time()\n",
        "    bfs=breadth_first_search(state[i])\n",
        "    t1=time()-t0\n",
        "    print('BFS:', bfs)\n",
        "    print('space:',Puzzle.num_of_instances)\n",
        "    print('time:',t1)\n",
        "    pathCost = 0\n",
        "    for i in bfs:\n",
        "      if i is 'U':\n",
        "        pathCost = pathCost + 2\n",
        "      elif i is 'D':\n",
        "        pathCost = pathCost + 3\n",
        "      elif i is 'L':\n",
        "        pathCost = pathCost + 1\n",
        "      elif i is 'R':\n",
        "        pathCost = pathCost + 4\n",
        "\n",
        "    print('Total Cost: ',pathCost)  "
      ]
    },
    {
      "cell_type": "code",
      "execution_count": null,
      "metadata": {
        "id": "jpyvO0cAaTh5"
      },
      "outputs": [],
      "source": [
        ""
      ]
    }
  ],
  "metadata": {
    "kernelspec": {
      "display_name": "Python 3",
      "language": "python",
      "name": "python3"
    },
    "language_info": {
      "codemirror_mode": {
        "name": "ipython",
        "version": 3
      },
      "file_extension": ".py",
      "mimetype": "text/x-python",
      "name": "python",
      "nbconvert_exporter": "python",
      "pygments_lexer": "ipython3",
      "version": "3.7.6"
    },
    "colab": {
      "name": "Lab Task 6 191118",
      "provenance": [],
      "collapsed_sections": [
        "7OP9OKq6aThn",
        "rCygkLhpaTho",
        "2jNHZtxPaTho",
        "2ovrszdnaThr",
        "r_OBjBfmaThw",
        "gIInOcFgaThz",
        "mQhiZzdGaTh1",
        "okXGFu48aTh2",
        "mVI9RVY3aTh2"
      ]
    }
  },
  "nbformat": 4,
  "nbformat_minor": 0
}
