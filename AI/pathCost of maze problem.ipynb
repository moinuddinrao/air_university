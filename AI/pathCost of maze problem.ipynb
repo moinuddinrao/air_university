{
  "cells": [
    {
      "cell_type": "markdown",
      "metadata": {
        "id": "IeX3pdW1q7Rl"
      },
      "source": [
        "## Today's Agenda is to Solve another interesting problem using Search based Technique"
      ]
    },
    {
      "cell_type": "markdown",
      "metadata": {
        "id": "3cRhNStnq7Rs"
      },
      "source": [
        "### We will be developing a game based A.I.(not so intelligent) Agent that can search a specific target in a maze like Scenario, Let's get started with code"
      ]
    },
    {
      "cell_type": "code",
      "execution_count": 1,
      "metadata": {
        "id": "BpzbWtAcq7Rt"
      },
      "outputs": [],
      "source": [
        "import numpy as np\n",
        "import cv2\n",
        "import matplotlib.pyplot as plt\n",
        "import numpy as np"
      ]
    },
    {
      "cell_type": "code",
      "execution_count": 2,
      "metadata": {
        "id": "3yPqPzq9q7Ru"
      },
      "outputs": [],
      "source": [
        "class Node:\n",
        "    \"\"\"\n",
        "        A node class for A* Pathfinding\n",
        "        parent is parent of the current Node\n",
        "        position is current position of the Node in the maze\n",
        "        g is cost from start to current Node\n",
        "        h is heuristic based estimated cost for current Node to end Node\n",
        "        f is total cost of present node i.e. :  f = g + h\n",
        "    \"\"\"\n",
        "\n",
        "    def __init__(self, parent=None, position=None):\n",
        "        self.parent = parent\n",
        "        self.position = position\n",
        "\n",
        "        self.g = 0\n",
        "        self.h = 0\n",
        "        self.f = self.g + self.h\n",
        "        \n",
        "    def __eq__(self, other):    # a == b\n",
        "        return self.position == other.position\n"
      ]
    },
    {
      "cell_type": "code",
      "execution_count": 3,
      "metadata": {
        "id": "7JX79ADgq7Rv"
      },
      "outputs": [],
      "source": [
        "#This function return the path of the search\n",
        "def return_path(current_node,maze):\n",
        "    path = []\n",
        "    no_rows, no_columns = np.shape(maze)\n",
        "    # here we create the initialized result maze with -1 in every position\n",
        "    result = [[-1 for i in range(no_columns)] for j in range(no_rows)]\n",
        "    current = current_node\n",
        "    while current is not None:\n",
        "        path.append(current.position)\n",
        "        current = current.parent\n",
        "    # Return reversed path as we need to show from start to end path\n",
        "    path = path[::-1]\n",
        "    start_value = 0\n",
        "    # we update the path of start to end found by A-star search with every step incremented by 1\n",
        "    for i in range(len(path)):\n",
        "        result[path[i][0]][path[i][1]] = start_value\n",
        "        start_value += 1\n",
        "    return result"
      ]
    },
    {
      "cell_type": "code",
      "execution_count": 4,
      "metadata": {
        "id": "XFo-AlwYq7Rw"
      },
      "outputs": [],
      "source": [
        "def search(maze, cost, start, end):\n",
        "    \"\"\"                \n",
        "        Returns a list of tuples as a path from the given start to the given end in the given maze\n",
        "        :param maze:\n",
        "        :param cost\n",
        "        :param start:\n",
        "        :param end:\n",
        "        :return:\n",
        "    \"\"\"\n",
        "\n",
        "    # Create start and end node with initized values for g, h and f\n",
        "    start_node = Node(None, tuple(start))\n",
        "    start_node.g = start_node.h = start_node.f = 0\n",
        "    end_node = Node(None, tuple(end))\n",
        "    end_node.g = end_node.h = end_node.f = 0\n",
        "\n",
        "    # Initialize both yet_to_visit and visited list\n",
        "    # in this list we will put all node that are yet_to_visit for exploration. \n",
        "    # From here we will find the lowest cost node to expand next\n",
        "    yet_to_visit_list = []  \n",
        "    # in this list we will put all node those already explored so that we don't explore it again\n",
        "    visited_list = [] \n",
        "    \n",
        "    # Add the start node\n",
        "    yet_to_visit_list.append(start_node)\n",
        "    \n",
        "    # Adding a stop condition. This is to avoid any infinite loop and stop \n",
        "    # execution after some reasonable number of steps\n",
        "    outer_iterations = 0\n",
        "    max_iterations = 100 #(len(maze) // 2) ** 10\n",
        "\n",
        "    # what squares do we search . serarch movement is left-right-top-bottom \n",
        "    #(4 movements) from every positon\n",
        "\n",
        "    move  =  [[-1, 0 ], # go up\n",
        "              [ 0, -1], # go left\n",
        "              [ 1, 0 ], # go down\n",
        "              [ 0, 1 ]] # go right\n",
        "\n",
        "\n",
        "    \"\"\"\n",
        "        1) We first get the current node by comparing all f cost and selecting the lowest cost node for further expansion\n",
        "        2) Check max iteration reached or not . Set a message and stop execution\n",
        "        3) Remove the selected node from yet_to_visit list and add this node to visited list\n",
        "        4) Perofmr Goal test and return the path else perform below steps\n",
        "        5) For selected node find out all children (use move to find children)\n",
        "            a) get the current postion for the selected node (this becomes parent node for the children)\n",
        "            b) check if a valid position exist (boundary will make few nodes invalid)\n",
        "            c) if any node is a wall then ignore that\n",
        "            d) add to valid children node list for the selected parent\n",
        "            \n",
        "            For all the children node\n",
        "                a) if child in visited list then ignore it and try next node\n",
        "                b) calculate child node g, h and f values\n",
        "                c) if child in yet_to_visit list then ignore it\n",
        "                d) else move the child to yet_to_visit list\n",
        "    \"\"\"\n",
        "    #find maze has got how many rows and columns \n",
        "    no_rows, no_columns = np.shape(maze)\n",
        "    \n",
        "    # Loop until you find the end\n",
        "    \n",
        "    while len(yet_to_visit_list) > 0:\n",
        "        \n",
        "        # Every time any node is referred from yet_to_visit list, counter of limit operation incremented\n",
        "        outer_iterations += 1    \n",
        "                                              # [8,7,6,5,4,3,2,1]\n",
        "        # Get the current node\n",
        "        current_node = yet_to_visit_list[0]\n",
        "        current_index = 0\n",
        "\n",
        "        # To find the node with minimum cost\n",
        "        for index, item in enumerate(yet_to_visit_list):\n",
        "            if item.f < current_node.f:\n",
        "                current_node = item\n",
        "                current_index = index\n",
        "                \n",
        "        # if we hit this point return the path such as it may be no solution or \n",
        "        # computation cost is too high\n",
        "        if outer_iterations > max_iterations:\n",
        "            print (\"giving up on pathfinding too many iterations\")\n",
        "            return return_path(current_node,maze)\n",
        "\n",
        "        # Pop current node out off yet_to_visit list, add to visited list\n",
        "        yet_to_visit_list.pop(current_index)\n",
        "        visited_list.append(current_node) \n",
        "\n",
        "        # test if goal is reached or not, if yes then return the path\n",
        "        if current_node == end_node:\n",
        "            return return_path(current_node,maze)\n",
        "\n",
        "        # Generate children from all adjacent squares\n",
        "        children = []\n",
        "\n",
        "        for new_position in move: \n",
        "\n",
        "            # Get node position\n",
        "            node_position = (current_node.position[0] + new_position[0], current_node.position[1] + new_position[1])\n",
        "\n",
        "            # Make sure within range (check if within maze boundary)\n",
        "            if (node_position[0] > (no_rows - 1) or \n",
        "                node_position[0] < 0 or \n",
        "                node_position[1] > (no_columns -1) or \n",
        "                node_position[1] < 0):\n",
        "                continue\n",
        "\n",
        "            # Make sure walkable terrain\n",
        "            if maze[node_position[0]][node_position[1]] != 0:\n",
        "                continue\n",
        "\n",
        "            # Create new node\n",
        "            new_node = Node(current_node, node_position)\n",
        "\n",
        "            # Append\n",
        "            children.append(new_node)\n",
        "\n",
        "        # Loop through children\n",
        "        for child in children:\n",
        "            \n",
        "            # Child is on the visited list (search entire visited list)\n",
        "            if len([visited_child for visited_child in visited_list if visited_child == child]) > 0:\n",
        "                continue\n",
        "\n",
        "            # Create the f, g, and h values\n",
        "            child.g = current_node.g + cost\n",
        "            ## Heuristic costs calculated here, this is using eucledian distance\n",
        "            child.h = (((child.position[0] - end_node.position[0]) ** 2) + \n",
        "                       ((child.position[1] - end_node.position[1]) ** 2)) \n",
        "            \n",
        "\n",
        "            child.f = child.g + child.h\n",
        "\n",
        "            # Child is already in the yet_to_visit list and g cost is already lower\n",
        "            if len([i for i in yet_to_visit_list if child == i and child.g > i.g]) > 0:\n",
        "                continue\n",
        "\n",
        "            # Add the child to the yet_to_visit list\n",
        "            yet_to_visit_list.append(child)"
      ]
    },
    {
      "cell_type": "code",
      "execution_count": 57,
      "metadata": {
        "id": "3YViX8Siq7Ry",
        "colab": {
          "base_uri": "https://localhost:8080/"
        },
        "outputId": "b1b0ac32-7321-4309-f00b-810bcac23f83"
      },
      "outputs": [
        {
          "output_type": "stream",
          "name": "stdout",
          "text": [
            "['D', 'D', 'D', 'D', 'R', 'R', 'R', 'U', 'U', 'R', 'R', 'D', 'D']\n",
            "Path Cost: 34\n"
          ]
        }
      ],
      "source": [
        "if __name__ == '__main__':\n",
        "\n",
        "    maze = [[0, 1, 0, 0, 0, 0],\n",
        "            [0, 1, 0, 1, 0, 0],\n",
        "            [0, 1, 0, 0, 0, 0],\n",
        "            [0, 1, 0, 0, 1, 0],\n",
        "            [0, 0, 0, 0, 1, 0]]\n",
        "    \n",
        "    start = [0, 0] # starting position\n",
        "    end = [4,5] # ending position\n",
        "    cost = 1 # cost per movement\n",
        "\n",
        "    path = search(maze,cost, start, end)\n",
        "    # print(path)\n",
        "\n",
        "    def find_legal_actions(i,j):\n",
        "      legal_action = ['U', 'D', 'L', 'R']\n",
        "      if i == 0:  # up is disable\n",
        "        legal_action.remove('U')\n",
        "      elif i == 4:  # down is disable\n",
        "        legal_action.remove('D')\n",
        "      if j == 0:\n",
        "        legal_action.remove('L')\n",
        "      elif j == 5:\n",
        "        legal_action.remove('R')\n",
        "      return legal_action\n",
        "\n",
        "\n",
        "\n",
        "    solution = []\n",
        "    currentValue = 1\n",
        "    finalValue = np.amax(node) + 1\n",
        "    i = 0\n",
        "    j = 0\n",
        "\n",
        "    while currentValue != finalValue:\n",
        "      # for i in range(no_rows):\n",
        "      #   for j in range(no_columns):\n",
        "          legal_actions = find_legal_actions(i,j)\n",
        "          for action in legal_actions:\n",
        "            if action is 'U' and node[i-1][j] == currentValue:\n",
        "              solution.append(action)\n",
        "              currentValue = currentValue + 1\n",
        "              i -= 1\n",
        "            elif action is 'D' and node[i+1][j] == currentValue:  \n",
        "              solution.append(action)   \n",
        "              currentValue = currentValue + 1\n",
        "              i += 1\n",
        "            elif action is 'L' and node[i][j-1] == currentValue:\n",
        "              solution.append(action)\n",
        "              currentValue = currentValue + 1\n",
        "              j -= 1\n",
        "            elif action is 'R' and node[i][j+1] == currentValue:\n",
        "              solution.append(action)    \n",
        "              currentValue = currentValue + 1\n",
        "              j += 1\n",
        "\n",
        "    print(solution)\n",
        "\n",
        "    dic={'U':3,\n",
        "        'D':3,\n",
        "        'L':2,\n",
        "        'R':2}\n",
        "\n",
        "    pathCost=[dic[i] for i in solution]\n",
        "    print(\"Path Cost:\",sum(pathCost))\n"
      ]
    },
    {
      "cell_type": "code",
      "execution_count": 6,
      "metadata": {
        "id": "1Uh-Gbx1q7Rz",
        "outputId": "09c8a063-1cea-44d6-e3e3-1abb6e64f8c3",
        "colab": {
          "base_uri": "https://localhost:8080/"
        }
      },
      "outputs": [
        {
          "output_type": "stream",
          "name": "stdout",
          "text": [
            "  0 -1 -1 -1 -1 -1\n",
            "  1 -1 -1 -1 -1 -1\n",
            "  2 -1 -1  9 10 11\n",
            "  3 -1 -1  8 -1 12\n",
            "  4  5  6  7 -1 13\n"
          ]
        }
      ],
      "source": [
        "print('\\n'.join([''.join([\"{:\" \">3d}\".format(item) for item in row]) for row in path]))"
      ]
    }
  ],
  "metadata": {
    "kernelspec": {
      "display_name": "Python 3",
      "language": "python",
      "name": "python3"
    },
    "language_info": {
      "codemirror_mode": {
        "name": "ipython",
        "version": 3
      },
      "file_extension": ".py",
      "mimetype": "text/x-python",
      "name": "python",
      "nbconvert_exporter": "python",
      "pygments_lexer": "ipython3",
      "version": "3.7.6"
    },
    "colab": {
      "name": "191118 Moin ud din Lab Task-7.ipynb",
      "provenance": [],
      "collapsed_sections": []
    }
  },
  "nbformat": 4,
  "nbformat_minor": 0
}