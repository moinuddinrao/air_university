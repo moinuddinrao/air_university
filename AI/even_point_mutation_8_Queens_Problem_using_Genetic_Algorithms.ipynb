{
  "cells": [
    {
      "cell_type": "markdown",
      "id": "e8cf362c",
      "metadata": {
        "id": "e8cf362c"
      },
      "source": [
        "## Today's Agenda"
      ]
    },
    {
      "cell_type": "markdown",
      "id": "bebbc73d",
      "metadata": {
        "id": "bebbc73d"
      },
      "source": [
        "#### 1. Explore the 8-Queens Problem from an implementation Perspective\n",
        "#### 2. How to formulate the Solution for 8-Queens Problem\n",
        "#### 3. Perform Genetic Algorithm to Solve 8-Queens Problem"
      ]
    },
    {
      "cell_type": "markdown",
      "id": "e279096f",
      "metadata": {
        "id": "e279096f"
      },
      "source": [
        "Let's Start by making the neccessary Imports"
      ]
    },
    {
      "cell_type": "code",
      "execution_count": 1,
      "id": "7ebe3113",
      "metadata": {
        "id": "7ebe3113"
      },
      "outputs": [],
      "source": [
        "from __future__ import division\n",
        "from random import Random, random"
      ]
    },
    {
      "cell_type": "markdown",
      "id": "8a24a498",
      "metadata": {
        "id": "8a24a498"
      },
      "source": [
        "Let's Define a State or a Chromosome"
      ]
    },
    {
      "cell_type": "code",
      "execution_count": 22,
      "id": "28dd3a60",
      "metadata": {
        "id": "28dd3a60"
      },
      "outputs": [],
      "source": [
        "class State(object):\n",
        "    MUTATION_RATE = 0.25\n",
        "    def __init__(self, parents=None):\n",
        "        r = Random()\n",
        "        self._fitness = None\n",
        "        self._probability = None\n",
        "        if parents==None:\n",
        "            self.state = [r.randint(1,8) for y in range(8)]\n",
        "        else:\n",
        "            parent1 = parents[0]\n",
        "            parent2 = parents[1]\n",
        "            self.state = self.crossover(parent1, parent2)\n",
        "            self.mutate()\n",
        "\n",
        "############################################\n",
        "    def fitness(self):\n",
        "        state = self.state\n",
        "        self._fitness = 0\n",
        "        for i in range(len(state)):\n",
        "            for j in range(len(state)):\n",
        "                if i != j:\n",
        "                    if (abs(i - j) == abs(state[i] - state[j])):\n",
        "                        self._fitness += 1\n",
        "                    elif (state[i] == state[j]):\n",
        "                        self._fitness += 1\n",
        "        return self._fitness \n",
        "\n",
        "\n",
        "############################################\n",
        "    def crossover(self, parent1, parent2):\n",
        "        r = Random()\n",
        "        random_list = r.sample(range(0,8), 2)\n",
        "\n",
        "        crossover_index1 = min (random_list)\n",
        "        crossover_index2 = max (random_list)\n",
        "\n",
        "        crossover_index = r.randint(0,8)\n",
        "        left = parent1.state[0:crossover_index1]\n",
        "        mid = parent2.state[crossover_index1:crossover_index2]\n",
        "        right = parent1.state[crossover_index2:8]\n",
        "        \n",
        "        left.extend(mid)\n",
        "        left.extend(right)\n",
        "\n",
        "        return left\n",
        "\n",
        "############################################\n",
        "    def mutate(self):\n",
        "        r = Random()\n",
        "        for i in range(len(self.state)):\n",
        "            if random() < State.MUTATION_RATE:\n",
        "                self.state[i] = r.randint(1,8)\n",
        "\n",
        "\n",
        "############################################\n",
        "    def __str__(self):\n",
        "        r = str(self.state)\n",
        "        print (self.fitness(), self.state)\n",
        "        return r\n",
        "\n",
        "############################################\n",
        "    def probability(self, population):\n",
        "        if not self._probability:\n",
        "            self._probability = self.fitness() / sum([x.fitness() for x in population])\n",
        "        return self._probability\n",
        "\n",
        "############################################\n",
        "def pickRandomByProbability(populationByProbability):\n",
        "    i = 0\n",
        "    selectedState = None\n",
        "    while selectedState == None:\n",
        "        current = populationByProbability[i] \n",
        "        if current[0] <= random():\n",
        "            return current[1]\n",
        "        if i+1 <= len(populationByProbability):\n",
        "            i = 0\n",
        "        else:\n",
        "            i += 1\n",
        "############################################\n",
        "def generateNextPopulation(population, n):\n",
        "    newPopulation = []\n",
        "    while len(newPopulation) < n:\n",
        "        populationByProbability = [(x.probability(population), x) for x in population]\n",
        "        parent1 = pickRandomByProbability(populationByProbability)\n",
        "        populationByProbability = [x for x in populationByProbability if x[1] != parent1]\n",
        "        parent2 = pickRandomByProbability(populationByProbability)\n",
        "        newPopulation.append(State((parent1, parent2)))\n",
        "    return newPopulation\n",
        "############################################\n",
        "\n",
        "############################################\n",
        "if __name__ == '__main__':\n",
        "    populationSize = 200\n",
        "    generation = 1\n",
        "    population = [State() for x in range(populationSize)]\n",
        "    while not 0 in [x.fitness() for x in population]:\n",
        "        print (\"generation %dt   Min fitness: %d\" % (generation, min([x.fitness() for x in population])))\n",
        "        population = generateNextPopulation(population, populationSize)\n",
        "        generation += 1\n",
        "        for x in population:\n",
        "            if x.fitness() <= 1:\n",
        "                print (x.state, x.fitness())      \n",
        "\n"
      ]
    }
  ],
  "metadata": {
    "colab": {
      "collapsed_sections": [],
      "name": "Lab-Task 8 --- 8 Queens Problem using Genetic Algorithms.ipynb",
      "provenance": []
    },
    "kernelspec": {
      "display_name": "Python 3",
      "language": "python",
      "name": "python3"
    },
    "language_info": {
      "codemirror_mode": {
        "name": "ipython",
        "version": 3
      },
      "file_extension": ".py",
      "mimetype": "text/x-python",
      "name": "python",
      "nbconvert_exporter": "python",
      "pygments_lexer": "ipython3",
      "version": "3.10.2"
    }
  },
  "nbformat": 4,
  "nbformat_minor": 5
}
